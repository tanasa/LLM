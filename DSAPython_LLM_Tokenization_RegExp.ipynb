{
 "cells": [
  {
   "cell_type": "markdown",
   "metadata": {
    "id": "Mpci6mqv5ACa"
   },
   "source": [
    "Examples of Regular Expressions"
   ]
  },
  {
   "cell_type": "code",
   "execution_count": 1,
   "metadata": {
    "id": "aBHPXuUgsWs-"
   },
   "outputs": [],
   "source": [
    "import re"
   ]
  },
  {
   "cell_type": "markdown",
   "metadata": {
    "id": "DHzWZ_ZZmbAG"
   },
   "source": [
    "Analysis of Words"
   ]
  },
  {
   "cell_type": "code",
   "execution_count": 2,
   "metadata": {
    "id": "6B2-dVPnXa_Z"
   },
   "outputs": [],
   "source": [
    "# Example #1\n",
    "\n",
    "my_string0 = \"Let's write RegEx\""
   ]
  },
  {
   "cell_type": "code",
   "execution_count": 3,
   "metadata": {},
   "outputs": [],
   "source": [
    "# The r\"\" syntax denotes a raw string literal. This means that any escape sequences within the string \n",
    "# (like \\n, \\t, or \\\\) are treated as literal characters and are not processed by the Python interpreter. \n",
    "# This can be particularly useful when dealing with regular expressions, file paths, or any strings where backslashes are common."
   ]
  },
  {
   "cell_type": "code",
   "execution_count": 4,
   "metadata": {
    "colab": {
     "base_uri": "https://localhost:8080/"
    },
    "id": "QP0Fe92jYj5X",
    "outputId": "a9a7da12-4c93-4c51-d7ab-4bab615a127c"
   },
   "outputs": [
    {
     "name": "stdout",
     "output_type": "stream",
     "text": [
      "['Let', 's', 'write', 'RegEx']\n",
      "Let\n",
      "s\n",
      "write\n",
      "RegEx\n"
     ]
    }
   ],
   "source": [
    "# Find all words\n",
    "wordToken = r\"\\w+\"\n",
    "\n",
    "matches = re.findall(wordToken, my_string0)\n",
    "print(matches)\n",
    "\n",
    "for match in matches:\n",
    "  print(match)"
   ]
  },
  {
   "cell_type": "code",
   "execution_count": 5,
   "metadata": {
    "id": "5GyXVpgTmlhs"
   },
   "outputs": [],
   "source": [
    "# Example#2\n",
    "\n",
    "my_string1 = \"Let's write RegEx!  Won't that be fun?  I sure think so.  Can you find 4 sentences?  Or perhaps, all 19 words?\""
   ]
  },
  {
   "cell_type": "code",
   "execution_count": 6,
   "metadata": {
    "colab": {
     "base_uri": "https://localhost:8080/"
    },
    "id": "on5jedLzlyqu",
    "outputId": "b5f34c3b-e894-4c87-a724-b94bdce63f9f"
   },
   "outputs": [
    {
     "name": "stdout",
     "output_type": "stream",
     "text": [
      "['Let', 'RegEx', 'Won', 'Can', 'Or']\n"
     ]
    }
   ],
   "source": [
    "# Find all capicalized words in my_string and print the result\n",
    "\n",
    "capitalized_words = r\"[A-Z]\\w+\"\n",
    "print(re.findall(capitalized_words, my_string1))"
   ]
  },
  {
   "cell_type": "code",
   "execution_count": 7,
   "metadata": {
    "id": "_hTWy0zFpL3t"
   },
   "outputs": [],
   "source": [
    "# Function: Print ‘n’ words in a row\n",
    "\n",
    "def print_words (list_words, numElementsRow):\n",
    "\n",
    "  for j in range (0, len(list_words), numElementsRow):\n",
    "    for i in range(j, j + numElementsRow):\n",
    "      if ( i >= len(list_words)):\n",
    "        break\n",
    "      print(i, '.',list_words[i], end=', ')\n",
    "    print()\n",
    "  print()"
   ]
  },
  {
   "cell_type": "code",
   "execution_count": 8,
   "metadata": {
    "colab": {
     "base_uri": "https://localhost:8080/"
    },
    "id": "D9XJBFDXn-k1",
    "outputId": "6058cbb0-ce34-4061-f46a-7a6ba4959ab9"
   },
   "outputs": [
    {
     "name": "stdout",
     "output_type": "stream",
     "text": [
      "0 . Let's, 1 . write, 2 . RegEx!, 3 . Won't, 4 . that, \n",
      "5 . be, 6 . fun?, 7 . I, 8 . sure, 9 . think, \n",
      "10 . so., 11 . Can, 12 . you, 13 . find, 14 . 4, \n",
      "15 . sentences?, 16 . Or, 17 . perhaps,, 18 . all, 19 . 19, \n",
      "20 . words?, \n",
      "\n"
     ]
    }
   ],
   "source": [
    "# Split my_string on spaces and print the result\n",
    "spaces = r\"\\s+\"\n",
    "\n",
    "list_of_words = re.split(spaces, my_string1)\n",
    "\n",
    "# print(re.split(spaces, my_string1))\n",
    "print_words(list_of_words,5)"
   ]
  },
  {
   "cell_type": "code",
   "execution_count": 9,
   "metadata": {
    "colab": {
     "base_uri": "https://localhost:8080/"
    },
    "id": "vmiaLpAwqfK3",
    "outputId": "7aa3abe0-21e4-4a4b-abb3-fcaf81784e6c"
   },
   "outputs": [
    {
     "name": "stdout",
     "output_type": "stream",
     "text": [
      "['4', '19']\n"
     ]
    }
   ],
   "source": [
    "# Find all digits in my_string and print the result\n",
    "\n",
    "digits = r\"\\d+\"\n",
    "print(re.findall(digits, my_string1))"
   ]
  },
  {
   "cell_type": "code",
   "execution_count": 10,
   "metadata": {
    "id": "bNeltXYU89py"
   },
   "outputs": [],
   "source": [
    "# Example #2\n",
    "my_string1 = \"Let's write RegEx!  Won't that be fun?  I sure think so.  Can you find 4 sentences?  Or perhaps, all 19 words?\""
   ]
  },
  {
   "cell_type": "code",
   "execution_count": 11,
   "metadata": {
    "colab": {
     "base_uri": "https://localhost:8080/"
    },
    "id": "lDJuwJk04uG2",
    "outputId": "68c72454-bf43-4c35-cb94-2e2ae4c7247c"
   },
   "outputs": [
    {
     "name": "stdout",
     "output_type": "stream",
     "text": [
      "<re.Match object; span=(17, 18), match='!'>\n",
      "<re.Match object; span=(37, 38), match='?'>\n",
      "<re.Match object; span=(55, 56), match='.'>\n",
      "<re.Match object; span=(82, 83), match='?'>\n",
      "<re.Match object; span=(109, 110), match='?'>\n"
     ]
    }
   ],
   "source": [
    "# 1. Split my_string on sentence endings and print the result\n",
    "\n",
    "sentence_ending = re.compile(r\"[.?!]\")\n",
    "\n",
    "matches = sentence_ending.finditer(my_string1)\n",
    "for match in matches:\n",
    "  print(match)"
   ]
  },
  {
   "cell_type": "code",
   "execution_count": 12,
   "metadata": {
    "colab": {
     "base_uri": "https://localhost:8080/"
    },
    "id": "5nurD47mOWD3",
    "outputId": "d3ae3439-65bf-481f-b230-54b567a67d45"
   },
   "outputs": [
    {
     "name": "stdout",
     "output_type": "stream",
     "text": [
      "[\"Let's write RegEx\", \"  Won't that be fun\", '  I sure think so', '  Can you find 4 sentences', '  Or perhaps, all 19 words', '']\n"
     ]
    }
   ],
   "source": [
    "print(re.split(sentence_ending, my_string1))"
   ]
  },
  {
   "cell_type": "code",
   "execution_count": 13,
   "metadata": {
    "id": "RAz9cVB7UQWA"
   },
   "outputs": [],
   "source": [
    "# Example#2\n",
    "\n",
    "my_string2 = 'The URL of Google is www.google.com'"
   ]
  },
  {
   "cell_type": "code",
   "execution_count": 14,
   "metadata": {
    "colab": {
     "base_uri": "https://localhost:8080/"
    },
    "id": "x4LFCSftUjOX",
    "outputId": "fd3c3d3f-8b1b-48b1-eda7-cd432fb21a1e"
   },
   "outputs": [
    {
     "name": "stdout",
     "output_type": "stream",
     "text": [
      "<re.Match object; span=(24, 25), match='.'>\n",
      "<re.Match object; span=(31, 32), match='.'>\n"
     ]
    }
   ],
   "source": [
    "# 1. Split my_string on sentence endings and print the result\n",
    "\n",
    "sentence_ending = re.compile(r\"[.?!]\")\n",
    "\n",
    "matches = sentence_ending.finditer(my_string2)\n",
    "for match in matches:\n",
    "   print(match)"
   ]
  },
  {
   "cell_type": "code",
   "execution_count": 15,
   "metadata": {
    "colab": {
     "base_uri": "https://localhost:8080/"
    },
    "id": "8ooP5BTqUnMt",
    "outputId": "e86c0173-5156-486c-9d27-67312858b6a5"
   },
   "outputs": [
    {
     "name": "stdout",
     "output_type": "stream",
     "text": [
      "['The URL of Google is www', 'google', 'com']\n"
     ]
    }
   ],
   "source": [
    "print(re.split(sentence_ending, my_string2))"
   ]
  },
  {
   "cell_type": "markdown",
   "metadata": {
    "id": "QkXbkHZIugAf"
   },
   "source": [
    "NLTK Tokenizer"
   ]
  },
  {
   "cell_type": "code",
   "execution_count": 16,
   "metadata": {
    "colab": {
     "base_uri": "https://localhost:8080/",
     "height": 73
    },
    "id": "nydANcgnpQgm",
    "outputId": "050573af-c75b-43ee-b8f0-09d65478797c"
   },
   "outputs": [],
   "source": [
    "# from google.colab import files\n",
    "# f = files.upload()"
   ]
  },
  {
   "cell_type": "code",
   "execution_count": 17,
   "metadata": {
    "colab": {
     "base_uri": "https://localhost:8080/"
    },
    "id": "zSK5AtJtpQkN",
    "outputId": "3d92330f-3736-4bf3-bc5e-43eef5106a2d"
   },
   "outputs": [
    {
     "name": "stdout",
     "output_type": "stream",
     "text": [
      "01_Tokenization_RegExp.ipynb\t\t grail.txt\r\n",
      "DSAPython_LLM_Tokenization_RegExp.ipynb\r\n"
     ]
    }
   ],
   "source": [
    "!ls"
   ]
  },
  {
   "cell_type": "code",
   "execution_count": 18,
   "metadata": {
    "colab": {
     "base_uri": "https://localhost:8080/"
    },
    "id": "_HnN03Pc8iI0",
    "outputId": "b3075ddb-a0b5-448b-f755-f42c43e7900d",
    "scrolled": true
   },
   "outputs": [],
   "source": [
    "with open('grail.txt', 'r') as file:\n",
    "    holy_grail = file.read()\n",
    "    scene_one = re.split('SCENE 2:', holy_grail)[0]\n",
    "\n",
    "# print(scene_one)"
   ]
  },
  {
   "cell_type": "code",
   "execution_count": 19,
   "metadata": {
    "colab": {
     "base_uri": "https://localhost:8080/"
    },
    "id": "l-PCgbeqpQoE",
    "outputId": "bee99e89-9a80-42f4-e2c3-adce92808e2c"
   },
   "outputs": [
    {
     "name": "stdout",
     "output_type": "stream",
     "text": [
      "<class 'str'>\n",
      "\"SCENE 1: [wind] [clop clop clop] \\nKING ARTHUR: Whoa there!  [clop clop clop] \\nSOLDIER #1: Halt!  Who goes there?\\nARTHUR: It is I, Arthur, son of Uther Pendragon, from the castle of Camelot.  King of the Britons, defeator of the Saxons, sovereign of all England!\\nSOLDIER #1: Pull the other one!\\nARTHUR: I am, ...  and this is my trusty servant Patsy.  We have ridden the length and breadth of the land in search of knights who will join me in my court at Camelot.  I must speak with your lord and master.\\nSOLDIER #1: What?  Ridden on a horse?\\nARTHUR: Yes!\\nSOLDIER #1: You're using coconuts!\\nARTHUR: What?\\nSOLDIER #1: You've got two empty halves of coconut and you're bangin' 'em together.\\nARTHUR: So?  We have ridden since the snows of winter covered this land, through the kingdom of Mercea, through--\\nSOLDIER #1: Where'd you get the coconuts?\\nARTHUR: We found them.\\nSOLDIER #1: Found them?  In Mercea?  The coconut's tropical!\\nARTHUR: What do you mean?\\nSOLDIER #1: Well, this is a temperate zone.\\nARTHUR: The swallow may fly south with the sun or the house martin or the plover may seek warmer climes in winter, yet these are not strangers to our land?\\nSOLDIER #1: Are you suggesting coconuts migrate?\\nARTHUR: Not at all.  They could be carried.\\nSOLDIER #1: What?  A swallow carrying a coconut?\\nARTHUR: It could grip it by the husk!\\nSOLDIER #1: It's not a question of where he grips it!  It's a simple question of weight ratios!  A five ounce bird could not carry a one pound coconut.\\nARTHUR: Well, it doesn't matter.  Will you go and tell your master that Arthur from the Court of Camelot is here.\\nSOLDIER #1: Listen.  In order to maintain air-speed velocity, a swallow needs to beat its wings forty-three times every second, right?\\nARTHUR: Please!\\nSOLDIER #1: Am I right?\\nARTHUR: I'm not interested!\\nSOLDIER #2: It could be carried by an African swallow!\\nSOLDIER #1: Oh, yeah, an African swallow maybe, but not a European swallow.  That's my point.\\nSOLDIER #2: Oh, yeah, I agree with that.\\nARTHUR: Will you ask your master if he wants to join my court at Camelot?!\\nSOLDIER #1: But then of course a-- African swallows are non-migratory.\\nSOLDIER #2: Oh, yeah...\\nSOLDIER #1: So they couldn't bring a coconut back anyway...  [clop clop clop] \\nSOLDIER #2: Wait a minute!  Supposing two swallows carried it together?\\nSOLDIER #1: No, they'd have to have it on a line.\\nSOLDIER #2: Well, simple!  They'd just use a strand of creeper!\\nSOLDIER #1: What, held under the dorsal guiding feathers?\\nSOLDIER #2: Well, why not?\\n\"\n"
     ]
    }
   ],
   "source": [
    "with open('grail.txt', 'r') as file:\n",
    "    holy_grail = file.read()\n",
    "    scene_one = re.split('SCENE 2:', holy_grail)[0]\n",
    "\n",
    "print(type(scene_one))\n",
    "print(scene_one)"
   ]
  },
  {
   "cell_type": "code",
   "execution_count": 20,
   "metadata": {},
   "outputs": [
    {
     "name": "stdout",
     "output_type": "stream",
     "text": [
      "/usr/bin/python3\n"
     ]
    }
   ],
   "source": [
    "import sys\n",
    "print(sys.executable)"
   ]
  },
  {
   "cell_type": "code",
   "execution_count": 21,
   "metadata": {
    "colab": {
     "base_uri": "https://localhost:8080/"
    },
    "id": "fjKgX4WZrOz5",
    "outputId": "d7e762f3-e535-40a6-d542-44b78cf5471e"
   },
   "outputs": [
    {
     "name": "stderr",
     "output_type": "stream",
     "text": [
      "[nltk_data] Downloading package punkt to /home/bogdan/nltk_data...\n",
      "[nltk_data]   Package punkt is already up-to-date!\n",
      "[nltk_data] Downloading package punkt_tab to /home/bogdan/nltk_data...\n",
      "[nltk_data]   Package punkt_tab is already up-to-date!\n"
     ]
    },
    {
     "data": {
      "text/plain": [
       "True"
      ]
     },
     "execution_count": 21,
     "metadata": {},
     "output_type": "execute_result"
    }
   ],
   "source": [
    "import nltk\n",
    "nltk.download('punkt')\n",
    "nltk.download('punkt_tab')"
   ]
  },
  {
   "cell_type": "code",
   "execution_count": 22,
   "metadata": {
    "id": "EF_oq_oCpQr8"
   },
   "outputs": [],
   "source": [
    "from nltk.tokenize import word_tokenize, sent_tokenize"
   ]
  },
  {
   "cell_type": "code",
   "execution_count": 23,
   "metadata": {
    "colab": {
     "base_uri": "https://localhost:8080/"
    },
    "id": "8PQTE_FBwOdW",
    "outputId": "aa0ae455-a443-470e-8793-df695de85081"
   },
   "outputs": [
    {
     "name": "stdout",
     "output_type": "stream",
     "text": [
      "0 . \"SCENE 1: [wind] [clop clop clop] \\nKING ARTHUR: Whoa there!, \n",
      "1 . [clop clop clop] \\nSOLDIER #1: Halt!, \n",
      "2 . Who goes there?\\nARTHUR: It is I, Arthur, son of Uther Pendragon, from the castle of Camelot., \n",
      "3 . King of the Britons, defeator of the Saxons, sovereign of all England!\\nSOLDIER #1: Pull the other one!\\nARTHUR: I am, ...  and this is my trusty servant Patsy., \n",
      "4 . We have ridden the length and breadth of the land in search of knights who will join me in my court at Camelot., \n",
      "5 . I must speak with your lord and master.\\nSOLDIER #1: What?, \n",
      "6 . Ridden on a horse?\\nARTHUR: Yes!\\nSOLDIER #1: You're using coconuts!\\nARTHUR: What?\\nSOLDIER #1: You've got two empty halves of coconut and you're bangin' 'em together.\\nARTHUR: So?, \n",
      "7 . We have ridden since the snows of winter covered this land, through the kingdom of Mercea, through--\\nSOLDIER #1: Where'd you get the coconuts?\\nARTHUR: We found them.\\nSOLDIER #1: Found them?, \n",
      "8 . In Mercea?, \n",
      "9 . The coconut's tropical!\\nARTHUR: What do you mean?\\nSOLDIER #1: Well, this is a temperate zone.\\nARTHUR: The swallow may fly south with the sun or the house martin or the plover may seek warmer climes in winter, yet these are not strangers to our land?\\nSOLDIER #1: Are you suggesting coconuts migrate?\\nARTHUR: Not at all., \n",
      "10 . They could be carried.\\nSOLDIER #1: What?, \n",
      "11 . A swallow carrying a coconut?\\nARTHUR: It could grip it by the husk!\\nSOLDIER #1: It's not a question of where he grips it!, \n",
      "12 . It's a simple question of weight ratios!, \n",
      "13 . A five ounce bird could not carry a one pound coconut.\\nARTHUR: Well, it doesn't matter., \n",
      "14 . Will you go and tell your master that Arthur from the Court of Camelot is here.\\nSOLDIER #1: Listen., \n",
      "15 . In order to maintain air-speed velocity, a swallow needs to beat its wings forty-three times every second, right?\\nARTHUR: Please!\\nSOLDIER #1: Am I right?\\nARTHUR: I'm not interested!\\nSOLDIER #2: It could be carried by an African swallow!\\nSOLDIER #1: Oh, yeah, an African swallow maybe, but not a European swallow., \n",
      "16 . That's my point.\\nSOLDIER #2: Oh, yeah, I agree with that.\\nARTHUR: Will you ask your master if he wants to join my court at Camelot?, \n",
      "17 . !\\nSOLDIER #1: But then of course a-- African swallows are non-migratory.\\nSOLDIER #2: Oh, yeah...\\nSOLDIER #1: So they couldn't bring a coconut back anyway...  [clop clop clop] \\nSOLDIER #2: Wait a minute!, \n",
      "18 . Supposing two swallows carried it together?\\nSOLDIER #1: No, they'd have to have it on a line.\\nSOLDIER #2: Well, simple!, \n",
      "19 . They'd just use a strand of creeper!\\nSOLDIER #1: What, held under the dorsal guiding feathers?\\nSOLDIER #2: Well, why not?\\n\", \n",
      "\n"
     ]
    }
   ],
   "source": [
    "# Split scene_one into sentences: sentences\n",
    "\n",
    "sentences = sent_tokenize(scene_one)\n",
    "print_words(sentences, 1)"
   ]
  },
  {
   "cell_type": "code",
   "execution_count": 24,
   "metadata": {
    "colab": {
     "base_uri": "https://localhost:8080/"
    },
    "id": "x0W425xqwD3f",
    "outputId": "5f6b6db7-b47c-4f72-9e42-17bc81534b71"
   },
   "outputs": [
    {
     "name": "stdout",
     "output_type": "stream",
     "text": [
      "0 . Who, 1 . goes, 2 . there, 3 . ?, 4 . \\nARTHUR, \n",
      "5 . :, 6 . It, 7 . is, 8 . I, 9 . ,, \n",
      "10 . Arthur, 11 . ,, 12 . son, 13 . of, 14 . Uther, \n",
      "15 . Pendragon, 16 . ,, 17 . from, 18 . the, 19 . castle, \n",
      "20 . of, 21 . Camelot, 22 . ., \n",
      "\n"
     ]
    }
   ],
   "source": [
    "# Use word_tokenize to tokenize the third sentence: tokenized_sent\n",
    "\n",
    "tokenized_sent = word_tokenize(sentences[2])\n",
    "print_words(tokenized_sent, 5)"
   ]
  },
  {
   "cell_type": "code",
   "execution_count": 25,
   "metadata": {
    "id": "tb75YFyHwD7O"
   },
   "outputs": [
    {
     "name": "stdout",
     "output_type": "stream",
     "text": [
      "{'Yes', 'held', 'that.\\\\nARTHUR', 'tropical', 'suggesting', 'air-speed', 'but', 'coconut', 'strangers', 'temperate', 'to', 'It', 'carried.\\\\nSOLDIER', \"'re\", 'beat', 'Saxons', 'lord', 'question', 'other', 'back', 'land', 'wind', 'That', 'defeator', 'you', 'Pendragon', 'south', '--', 'that', 'carried', 'Not', 'weight', 'two', 'must', 'its', 'master', 'the', 'King', 'Listen', 'maintain', 'point.\\\\nSOLDIER', '[', 'What', 'fly', 'there', 'Patsy', 'breadth', 'will', 'Who', 'No', 'yet', 'goes', '...', 'join', 'just', 'snows', 'feathers', 'search', 'together.\\\\nARTHUR', 'be', \"n't\", \"'m\", 'creeper', 'a', 'dorsal', 'bird', 'SCENE', 'court', 'got', \"'\", 'have', 'winter', 'master.\\\\nSOLDIER', 'martin', '\\\\nKING', 'and', 'We', 'climes', 'yeah', 'swallows', 'zone.\\\\nARTHUR', 'covered', 'European', '\\\\nARTHUR', '?', 'mean', 'five', 'second', 'why', 'found', 'bangin', ':', 'wants', 'if', 'may', 'times', 'Halt', 'coconuts', 'one', 'use', '1', 'pound', 'castle', 'them.\\\\nSOLDIER', '\\\\nSOLDIER', 'speak', 'length', 'warmer', 'go', 'Supposing', 'sun', 'velocity', 'at', '#', 'am', 'carrying', 'ridden', 'then', 'together', 'under', 'are', 'does', 'order', 'Will', 'using', 'where', 'Are', 'knights', 'with', 'since', 'course', 'these', 'matter', 'them', 'is', 'all', 'ARTHUR', 'could', 'swallow', 'son', 'coconut.\\\\nARTHUR', 'bring', 'Where', 'our', 'forty-three', 'Am', '2', 'kingdom', 'tell', 'needs', \"''\", 'your', 'an', 'this', 'in', 'Britons', 'on', 'agree', 'of', 'Mercea', \"'d\", 'right', 'anyway', 'every', '``', ']', 'do', \"'ve\", 'minute', 'non-migratory.\\\\nSOLDIER', '!', 'ounce', 'African', 'servant', 'Please', 'Camelot', 'simple', 'not', 'You', 'I', 'grip', 'They', 'Wait', 'trusty', 'Oh', 'sovereign', 'husk', 'carry', 'halves', 'So', 'In', 'from', 'Well', '\\\\n', 'me', 'A', 'my', 'empty', 'migrate', 'Found', 'by', 'wings', 'line.\\\\nSOLDIER', 'ratios', 'interested', 'Uther', \"'em\", 'seek', 'strand', 'England', 'clop', '.', 'he', 'horse', 'guiding', 'they', 'get', 'The', 'grips', 'it', 'But', 'plover', 'Court', 'house', 'Pull', \"'s\", ',', 'here.\\\\nSOLDIER', 'Arthur', 'maybe', 'ask', 'through', 'Whoa', 'Ridden', 'or', 'who'}\n"
     ]
    }
   ],
   "source": [
    "# Make a set of unique tokens in the entire scene: unique_tokens\n",
    "\n",
    "unique_tokens = set(word_tokenize(scene_one))\n",
    "print(unique_tokens)"
   ]
  },
  {
   "cell_type": "code",
   "execution_count": 26,
   "metadata": {
    "colab": {
     "base_uri": "https://localhost:8080/"
    },
    "id": "3Y_p0-9kwD_X",
    "outputId": "08e9e229-e3b6-4846-a1bc-15407e451bfe"
   },
   "outputs": [
    {
     "name": "stdout",
     "output_type": "stream",
     "text": [
      "0 . Yes, 1 . held, 2 . that.\\nARTHUR, 3 . tropical, 4 . suggesting, \n",
      "5 . air-speed, 6 . but, 7 . coconut, 8 . strangers, 9 . temperate, \n",
      "10 . to, 11 . It, 12 . carried.\\nSOLDIER, 13 . 're, 14 . beat, \n",
      "15 . Saxons, 16 . lord, 17 . question, 18 . other, 19 . back, \n",
      "20 . land, 21 . wind, 22 . That, 23 . defeator, 24 . you, \n",
      "25 . Pendragon, 26 . south, 27 . --, 28 . that, 29 . carried, \n",
      "30 . Not, 31 . weight, 32 . two, 33 . must, 34 . its, \n",
      "35 . master, 36 . the, 37 . King, 38 . Listen, 39 . maintain, \n",
      "40 . point.\\nSOLDIER, 41 . [, 42 . What, 43 . fly, 44 . there, \n",
      "45 . Patsy, 46 . breadth, 47 . will, 48 . Who, 49 . No, \n",
      "50 . yet, 51 . goes, 52 . ..., 53 . join, 54 . just, \n",
      "55 . snows, 56 . feathers, 57 . search, 58 . together.\\nARTHUR, 59 . be, \n",
      "60 . n't, 61 . 'm, 62 . creeper, 63 . a, 64 . dorsal, \n",
      "65 . bird, 66 . SCENE, 67 . court, 68 . got, 69 . ', \n",
      "70 . have, 71 . winter, 72 . master.\\nSOLDIER, 73 . martin, 74 . \\nKING, \n",
      "75 . and, 76 . We, 77 . climes, 78 . yeah, 79 . swallows, \n",
      "80 . zone.\\nARTHUR, 81 . covered, 82 . European, 83 . \\nARTHUR, 84 . ?, \n",
      "85 . mean, 86 . five, 87 . second, 88 . why, 89 . found, \n",
      "90 . bangin, 91 . :, 92 . wants, 93 . if, 94 . may, \n",
      "95 . times, 96 . Halt, 97 . coconuts, 98 . one, 99 . use, \n",
      "100 . 1, 101 . pound, 102 . castle, 103 . them.\\nSOLDIER, 104 . \\nSOLDIER, \n",
      "105 . speak, 106 . length, 107 . warmer, 108 . go, 109 . Supposing, \n",
      "110 . sun, 111 . velocity, 112 . at, 113 . #, 114 . am, \n",
      "115 . carrying, 116 . ridden, 117 . then, 118 . together, 119 . under, \n",
      "120 . are, 121 . does, 122 . order, 123 . Will, 124 . using, \n",
      "125 . where, 126 . Are, 127 . knights, 128 . with, 129 . since, \n",
      "130 . course, 131 . these, 132 . matter, 133 . them, 134 . is, \n",
      "135 . all, 136 . ARTHUR, 137 . could, 138 . swallow, 139 . son, \n",
      "140 . coconut.\\nARTHUR, 141 . bring, 142 . Where, 143 . our, 144 . forty-three, \n",
      "145 . Am, 146 . 2, 147 . kingdom, 148 . tell, 149 . needs, \n",
      "150 . '', 151 . your, 152 . an, 153 . this, 154 . in, \n",
      "155 . Britons, 156 . on, 157 . agree, 158 . of, 159 . Mercea, \n",
      "160 . 'd, 161 . right, 162 . anyway, 163 . every, 164 . ``, \n",
      "165 . ], 166 . do, 167 . 've, 168 . minute, 169 . non-migratory.\\nSOLDIER, \n",
      "170 . !, 171 . ounce, 172 . African, 173 . servant, 174 . Please, \n",
      "175 . Camelot, 176 . simple, 177 . not, 178 . You, 179 . I, \n",
      "180 . grip, 181 . They, 182 . Wait, 183 . trusty, 184 . Oh, \n",
      "185 . sovereign, 186 . husk, 187 . carry, 188 . halves, 189 . So, \n",
      "190 . In, 191 . from, 192 . Well, 193 . \\n, 194 . me, \n",
      "195 . A, 196 . my, 197 . empty, 198 . migrate, 199 . Found, \n",
      "200 . by, 201 . wings, 202 . line.\\nSOLDIER, 203 . ratios, 204 . interested, \n",
      "205 . Uther, 206 . 'em, 207 . seek, 208 . strand, 209 . England, \n",
      "210 . clop, 211 . ., 212 . he, 213 . horse, 214 . guiding, \n",
      "215 . they, 216 . get, 217 . The, 218 . grips, 219 . it, \n",
      "220 . But, 221 . plover, 222 . Court, 223 . house, 224 . Pull, \n",
      "225 . 's, 226 . ,, 227 . here.\\nSOLDIER, 228 . Arthur, 229 . maybe, \n",
      "230 . ask, 231 . through, 232 . Whoa, 233 . Ridden, 234 . or, \n",
      "235 . who, \n",
      "\n"
     ]
    }
   ],
   "source": [
    "# Print the unique tokens result\n",
    "\n",
    "print_words(list(unique_tokens),5)"
   ]
  },
  {
   "cell_type": "markdown",
   "metadata": {
    "id": "JTDVIUWT4zyA"
   },
   "source": [
    "Match Regular Expressions"
   ]
  },
  {
   "cell_type": "code",
   "execution_count": 27,
   "metadata": {
    "colab": {
     "base_uri": "https://localhost:8080/"
    },
    "id": "_irb1FR2pQwE",
    "outputId": "b2447602-49d5-4d81-85f1-c8c19d1721ce"
   },
   "outputs": [
    {
     "name": "stdout",
     "output_type": "stream",
     "text": [
      "589 597\n",
      "coconuts\n"
     ]
    }
   ],
   "source": [
    "match = re.search(\"coconuts\", scene_one)\n",
    "\n",
    "# Print the start and end indexes of match\n",
    "print(match.start(), match.end())\n",
    "\n",
    "print(scene_one[589:597])"
   ]
  },
  {
   "cell_type": "markdown",
   "metadata": {
    "id": "8pP7cQmYswMb"
   },
   "source": [
    "Advanced Tokenization with NLTK and regex"
   ]
  },
  {
   "cell_type": "code",
   "execution_count": 28,
   "metadata": {
    "id": "UL_euVmJt-Tw"
   },
   "outputs": [],
   "source": [
    "from pprint import pprint\n",
    "\n",
    "from nltk.tokenize import regexp_tokenize"
   ]
  },
  {
   "cell_type": "code",
   "execution_count": 36,
   "metadata": {
    "id": "y09mMTgVsKaz"
   },
   "outputs": [],
   "source": [
    "my_string = \"SOLDIER #1: Found them? In Mercea? The coconut's tropical!\""
   ]
  },
  {
   "cell_type": "code",
   "execution_count": 40,
   "metadata": {
    "id": "hHVZ3ukEB3xU"
   },
   "outputs": [],
   "source": [
    "pattern1 = r'(\\\\w+|\\\\?|!)'\n",
    "pattern2 = r\"(\\w+|#\\d|\\?|!)\"\n",
    "pattern3 = r'(#\\\\d\\\\w+\\\\?!)'\n",
    "pattern4 = r'\\\\s+'"
   ]
  },
  {
   "cell_type": "code",
   "execution_count": 47,
   "metadata": {
    "colab": {
     "base_uri": "https://localhost:8080/"
    },
    "id": "TyJIP3HVsKd6",
    "outputId": "1af1f1d9-439d-455d-b94a-e3525c347ac0"
   },
   "outputs": [
    {
     "name": "stdout",
     "output_type": "stream",
     "text": [
      "['SOLDIER',\n",
      " '#1',\n",
      " 'Found',\n",
      " 'them',\n",
      " '?',\n",
      " 'In',\n",
      " 'Mercea',\n",
      " '?',\n",
      " 'The',\n",
      " 'coconut',\n",
      " 's',\n",
      " 'tropical',\n",
      " '!']\n"
     ]
    }
   ],
   "source": [
    "pprint(regexp_tokenize(my_string, pattern2))"
   ]
  },
  {
   "cell_type": "code",
   "execution_count": 48,
   "metadata": {
    "colab": {
     "base_uri": "https://localhost:8080/"
    },
    "id": "fNGhCrGwGVr-",
    "outputId": "60da7e93-16c7-4d7c-bb97-bc5c84caad62"
   },
   "outputs": [
    {
     "name": "stdout",
     "output_type": "stream",
     "text": [
      "[]\n"
     ]
    }
   ],
   "source": [
    "pprint(regexp_tokenize(my_string, pattern4))"
   ]
  },
  {
   "cell_type": "code",
   "execution_count": 49,
   "metadata": {},
   "outputs": [],
   "source": [
    "# 1. Pattern 1: r'(\\\\w+|\\\\?|!)'\n",
    "\n",
    "#  \\\\w+: This matches one or more alphanumeric characters (letters, digits, and underscores).\n",
    "#  \\\\?: This matches a literal question mark (?).\n",
    "#  !: This matches a literal exclamation mark (!).\n",
    "#  |: This is an OR operator, so the pattern matches either \\\\w+ (alphanumeric string), \\\\? (question mark), or ! (exclamation mark).\n",
    "\n",
    "# Simplified Explanation: This pattern matches any sequence of alphanumeric characters, or a standalone ? or !.\n",
    "\n",
    "# 2. Pattern 2: r\"(\\w+|#\\d|\\?|!)\"\n",
    "\n",
    "#  \\w+: Matches one or more alphanumeric characters.\n",
    "#  #\\d: Matches a literal # followed by a digit.\n",
    "#  \\?: Matches a literal question mark (?).\n",
    "#  !: Matches a literal exclamation mark (!).\n",
    "#  |: This OR operator matches any of these options.\n",
    "\n",
    "# Simplified Explanation: This pattern matches any alphanumeric string, a # followed by a digit, or a standalone ? or !.\n",
    "\n",
    "# 3. Pattern 3: r'(#\\\\d\\\\w+\\\\?!)'\n",
    "\n",
    "#  #\\\\d: Matches a literal # followed by a digit.\n",
    "#  \\\\w+: Matches one or more alphanumeric characters.\n",
    "#  \\\\?: Matches a literal question mark (?).\n",
    "#  !: Matches a literal exclamation mark (!).\n",
    "\n",
    "# Simplified Explanation: This pattern matches strings that start with a # followed by a digit, then a sequence of alphanumeric characters, and ends with a ?!.\n",
    "\n",
    "# 4. Pattern 4: r'\\\\s+'\n",
    "\n",
    "#  \\\\s+: Matches one or more whitespace characters (spaces, tabs, newlines).\n",
    "\n",
    "# Simplified Explanation: This pattern matches any sequence of one or more whitespace characters."
   ]
  },
  {
   "cell_type": "code",
   "execution_count": 54,
   "metadata": {
    "id": "XkspBZ_1sKhp"
   },
   "outputs": [],
   "source": [
    "# Three tweets\n",
    "\n",
    "tweets = ['This is the best #nlp exercise ive found online! #python',\n",
    "          '#NLP is super fun! <3 #learning',\n",
    "          'Thanks @chapman :) #nlp #python']"
   ]
  },
  {
   "cell_type": "code",
   "execution_count": 55,
   "metadata": {
    "id": "6TBnPY8mG6Ue"
   },
   "outputs": [],
   "source": [
    "from nltk.tokenize import regexp_tokenize, TweetTokenizer"
   ]
  },
  {
   "cell_type": "code",
   "execution_count": 56,
   "metadata": {
    "id": "-Xq6_plysKk5"
   },
   "outputs": [],
   "source": [
    "# Define a regex pattern to find hashtags: pattern1\n",
    "pattern1 = r\"#\\w+\""
   ]
  },
  {
   "cell_type": "code",
   "execution_count": 57,
   "metadata": {
    "colab": {
     "base_uri": "https://localhost:8080/"
    },
    "id": "QfsKfkkTHSsq",
    "outputId": "efca446f-b8f0-44ce-8847-e022ac2fa036"
   },
   "outputs": [
    {
     "name": "stdout",
     "output_type": "stream",
     "text": [
      "This is the best #nlp exercise ive found online! #python\n"
     ]
    }
   ],
   "source": [
    "print(tweets[0])"
   ]
  },
  {
   "cell_type": "code",
   "execution_count": 59,
   "metadata": {
    "colab": {
     "base_uri": "https://localhost:8080/"
    },
    "id": "ach3fNdOHFGF",
    "outputId": "2bb64147-b3ae-4c7c-d50d-38bfc7d8f7de"
   },
   "outputs": [
    {
     "name": "stdout",
     "output_type": "stream",
     "text": [
      "['#nlp', '#python']\n"
     ]
    }
   ],
   "source": [
    "# Use the pattern on the first tweet in the tweets list\n",
    "\n",
    "# The use regexp_tokenize() with this pattern, \n",
    "# will find and return all the hashtags present in the tweet.\n",
    "\n",
    "hashtags = regexp_tokenize(tweets[0], pattern1)\n",
    "print(hashtags)"
   ]
  },
  {
   "cell_type": "code",
   "execution_count": 60,
   "metadata": {
    "id": "lavQe-jzsKot"
   },
   "outputs": [],
   "source": [
    "pattern2 = r\"[@|#]\\w+\""
   ]
  },
  {
   "cell_type": "code",
   "execution_count": 61,
   "metadata": {
    "colab": {
     "base_uri": "https://localhost:8080/"
    },
    "id": "AC4RioiuIQrP",
    "outputId": "f81b46fe-c0ad-4427-8bdf-d6c441174b81"
   },
   "outputs": [
    {
     "name": "stdout",
     "output_type": "stream",
     "text": [
      "Thanks @chapman :) #nlp #python\n"
     ]
    }
   ],
   "source": [
    "print(tweets[-1])"
   ]
  },
  {
   "cell_type": "code",
   "execution_count": 62,
   "metadata": {
    "colab": {
     "base_uri": "https://localhost:8080/"
    },
    "id": "fkQzwJ1tIqBV",
    "outputId": "386f93f5-a955-4d02-f504-0d1652960fa0"
   },
   "outputs": [
    {
     "name": "stdout",
     "output_type": "stream",
     "text": [
      "['@chapman', '#nlp', '#python']\n"
     ]
    }
   ],
   "source": [
    "# Use the pattern on the last tweet in the tweets list\n",
    "\n",
    "mentions_hashtags = regexp_tokenize(tweets[-1], pattern2)\n",
    "print(mentions_hashtags)"
   ]
  },
  {
   "cell_type": "code",
   "execution_count": 63,
   "metadata": {
    "colab": {
     "base_uri": "https://localhost:8080/"
    },
    "id": "ORi7LBM-sKwu",
    "outputId": "4f92bdf9-051b-4241-b6a3-227859c0b50c"
   },
   "outputs": [
    {
     "name": "stdout",
     "output_type": "stream",
     "text": [
      "0 . ['This', 'is', 'the', 'best', '#nlp', 'exercise', 'ive', 'found', 'online', '!', '#python'], \n",
      "1 . ['#NLP', 'is', 'super', 'fun', '!', '<3', '#learning'], \n",
      "2 . ['Thanks', '@chapman', ':)', '#nlp', '#python'], \n",
      "\n"
     ]
    }
   ],
   "source": [
    "tknzr = TweetTokenizer()\n",
    "all_tokens = [tknzr.tokenize(t) for t in tweets]\n",
    "print_words(all_tokens, 1)"
   ]
  },
  {
   "cell_type": "markdown",
   "metadata": {
    "id": "ZGxUmqE5A7KG"
   },
   "source": [
    "Non-ascii tokenization"
   ]
  },
  {
   "cell_type": "code",
   "execution_count": 64,
   "metadata": {
    "id": "z9UZVmzCvWG6"
   },
   "outputs": [],
   "source": [
    "german_text = 'Wann gehen wir Pizza essen? 🍕 Und fährst du mit Über? 🚕'"
   ]
  },
  {
   "cell_type": "code",
   "execution_count": 65,
   "metadata": {
    "colab": {
     "base_uri": "https://localhost:8080/"
    },
    "id": "Zcrj4vgdvWK2",
    "outputId": "16e5085c-36c3-4ec9-9fbd-8d37a1428fd1"
   },
   "outputs": [
    {
     "name": "stdout",
     "output_type": "stream",
     "text": [
      "['Wann', 'gehen', 'wir', 'Pizza', 'essen', '?', '🍕', 'Und', 'fährst', 'du', 'mit', 'Über', '?', '🚕']\n",
      "['Wann', 'Pizza', 'Und', 'Über']\n",
      "['🍕', '🚕']\n"
     ]
    }
   ],
   "source": [
    "all_words = word_tokenize(german_text)\n",
    "print(all_words)\n",
    "\n",
    "# Tokenize and print only capital words\n",
    "\n",
    "capital_words = r\"[A-ZÜ]\\w+\"\n",
    "print(regexp_tokenize(german_text, capital_words))\n",
    "\n",
    "# Tokenize and print only emoji\n",
    "\n",
    "emoji = \"['\\U0001F300-\\U0001F5FF'|'\\U0001F600-\\U0001F64F'|'\\U0001F680-\\U0001F6FF'|'\\u2600-\\u26FF\\u2700-\\u27BF']\"\n",
    "print(regexp_tokenize(german_text, emoji))"
   ]
  },
  {
   "cell_type": "markdown",
   "metadata": {
    "id": "PU3ViTt3Bg7d"
   },
   "source": [
    "Charting Word Length with NLTK"
   ]
  },
  {
   "cell_type": "code",
   "execution_count": 67,
   "metadata": {
    "colab": {
     "base_uri": "https://localhost:8080/",
     "height": 499
    },
    "id": "r9CjHC-0vWOv",
    "outputId": "1caa9a7b-493e-49be-8fe4-8ad1f549ab06"
   },
   "outputs": [
    {
     "data": {
      "image/png": "[encoded data removed]",
      "text/plain": [
       "<Figure size 576x576 with 1 Axes>"
      ]
     },
     "metadata": {
      "needs_background": "light"
     },
     "output_type": "display_data"
    }
   ],
   "source": [
    "import matplotlib.pyplot as plt\n",
    "\n",
    "# Split the script into lines: lines\n",
    "lines = holy_grail.split('\\n')\n",
    "\n",
    "# Replace all script lines for speaker\n",
    "pattern = \"[A-Z]{2,}(\\s)?(#\\d)?([A-Z]{2,})?:\"\n",
    "lines = [re.sub(pattern, '', l) for l in lines]\n",
    "\n",
    "# Tokenize each line: tokenized_lines\n",
    "tokenized_lines = [regexp_tokenize(s, '\\w+') for s in lines]\n",
    "\n",
    "# Make a frequency list of lengths: line_num_words\n",
    "line_num_words = [len(t_line) for t_line in tokenized_lines]\n",
    "\n",
    "# Plot a histogram of the line lengths\n",
    "plt.figure(figsize=(8,8))\n",
    "plt.hist(line_num_words);\n",
    "plt.title('# of words per line in holy_grail');"
   ]
  },
  {
   "cell_type": "code",
   "execution_count": 68,
   "metadata": {},
   "outputs": [
    {
     "name": "stdout",
     "output_type": "stream",
     "text": [
      "['\"SCENE 1: [wind] [clop clop clop] \\\\n Whoa there!  [clop clop clop] \\\\n Halt!  Who goes there?\\\\n It is I, Arthur, son of Uther Pendragon, from the castle of Camelot.  King of the Britons, defeator of the Saxons, sovereign of all England!\\\\n Pull the other one!\\\\n I am, ...  and this is my trusty servant Patsy.  We have ridden the length and breadth of the land in search of knights who will join me in my court at Camelot.  I must speak with your lord and master.\\\\n What?  Ridden on a horse?\\\\n Yes!\\\\n You\\'re using coconuts!\\\\n What?\\\\n You\\'ve got two empty halves of coconut and you\\'re bangin\\' \\'em together.\\\\n So?  We have ridden since the snows of winter covered this land, through the kingdom of Mercea, through--\\\\n Where\\'d you get the coconuts?\\\\n We found them.\\\\n Found them?  In Mercea?  The coconut\\'s tropical!\\\\n What do you mean?\\\\n Well, this is a temperate zone.\\\\n The swallow may fly south with the sun or the house martin or the plover may seek warmer climes in winter, yet these are not strangers to our land?\\\\n Are you suggesting coconuts migrate?\\\\n Not at all.  They could be carried.\\\\n What?  A swallow carrying a coconut?\\\\n It could grip it by the husk!\\\\n It\\'s not a question of where he grips it!  It\\'s a simple question of weight ratios!  A five ounce bird could not carry a one pound coconut.\\\\n Well, it doesn\\'t matter.  Will you go and tell your master that Arthur from the Court of Camelot is here.\\\\n Listen.  In order to maintain air-speed velocity, a swallow needs to beat its wings forty-three times every second, right?\\\\n Please!\\\\n Am I right?\\\\n I\\'m not interested!\\\\n It could be carried by an African swallow!\\\\n Oh, yeah, an African swallow maybe, but not a European swallow.  That\\'s my point.\\\\n Oh, yeah, I agree with that.\\\\n Will you ask your master if he wants to join my court at Camelot?!\\\\n But then of course a-- African swallows are non-migratory.\\\\n Oh, yeah...\\\\n So they couldn\\'t bring a coconut back anyway...  [clop clop clop] \\\\n Wait a minute!  Supposing two swallows carried it together?\\\\n No, they\\'d have to have it on a line.\\\\n Well, simple!  They\\'d just use a strand of creeper!\\\\n What, held under the dorsal guiding feathers?\\\\n Well, why not?\\\\n\"']\n",
      "[['SCENE', '1', 'wind', 'clop', 'clop', 'clop', 'n', 'Whoa', 'there', 'clop', 'clop', 'clop', 'n', 'Halt', 'Who', 'goes', 'there', 'n', 'It', 'is', 'I', 'Arthur', 'son', 'of', 'Uther', 'Pendragon', 'from', 'the', 'castle', 'of', 'Camelot', 'King', 'of', 'the', 'Britons', 'defeator', 'of', 'the', 'Saxons', 'sovereign', 'of', 'all', 'England', 'n', 'Pull', 'the', 'other', 'one', 'n', 'I', 'am', 'and', 'this', 'is', 'my', 'trusty', 'servant', 'Patsy', 'We', 'have', 'ridden', 'the', 'length', 'and', 'breadth', 'of', 'the', 'land', 'in', 'search', 'of', 'knights', 'who', 'will', 'join', 'me', 'in', 'my', 'court', 'at', 'Camelot', 'I', 'must', 'speak', 'with', 'your', 'lord', 'and', 'master', 'n', 'What', 'Ridden', 'on', 'a', 'horse', 'n', 'Yes', 'n', 'You', 're', 'using', 'coconuts', 'n', 'What', 'n', 'You', 've', 'got', 'two', 'empty', 'halves', 'of', 'coconut', 'and', 'you', 're', 'bangin', 'em', 'together', 'n', 'So', 'We', 'have', 'ridden', 'since', 'the', 'snows', 'of', 'winter', 'covered', 'this', 'land', 'through', 'the', 'kingdom', 'of', 'Mercea', 'through', 'n', 'Where', 'd', 'you', 'get', 'the', 'coconuts', 'n', 'We', 'found', 'them', 'n', 'Found', 'them', 'In', 'Mercea', 'The', 'coconut', 's', 'tropical', 'n', 'What', 'do', 'you', 'mean', 'n', 'Well', 'this', 'is', 'a', 'temperate', 'zone', 'n', 'The', 'swallow', 'may', 'fly', 'south', 'with', 'the', 'sun', 'or', 'the', 'house', 'martin', 'or', 'the', 'plover', 'may', 'seek', 'warmer', 'climes', 'in', 'winter', 'yet', 'these', 'are', 'not', 'strangers', 'to', 'our', 'land', 'n', 'Are', 'you', 'suggesting', 'coconuts', 'migrate', 'n', 'Not', 'at', 'all', 'They', 'could', 'be', 'carried', 'n', 'What', 'A', 'swallow', 'carrying', 'a', 'coconut', 'n', 'It', 'could', 'grip', 'it', 'by', 'the', 'husk', 'n', 'It', 's', 'not', 'a', 'question', 'of', 'where', 'he', 'grips', 'it', 'It', 's', 'a', 'simple', 'question', 'of', 'weight', 'ratios', 'A', 'five', 'ounce', 'bird', 'could', 'not', 'carry', 'a', 'one', 'pound', 'coconut', 'n', 'Well', 'it', 'doesn', 't', 'matter', 'Will', 'you', 'go', 'and', 'tell', 'your', 'master', 'that', 'Arthur', 'from', 'the', 'Court', 'of', 'Camelot', 'is', 'here', 'n', 'Listen', 'In', 'order', 'to', 'maintain', 'air', 'speed', 'velocity', 'a', 'swallow', 'needs', 'to', 'beat', 'its', 'wings', 'forty', 'three', 'times', 'every', 'second', 'right', 'n', 'Please', 'n', 'Am', 'I', 'right', 'n', 'I', 'm', 'not', 'interested', 'n', 'It', 'could', 'be', 'carried', 'by', 'an', 'African', 'swallow', 'n', 'Oh', 'yeah', 'an', 'African', 'swallow', 'maybe', 'but', 'not', 'a', 'European', 'swallow', 'That', 's', 'my', 'point', 'n', 'Oh', 'yeah', 'I', 'agree', 'with', 'that', 'n', 'Will', 'you', 'ask', 'your', 'master', 'if', 'he', 'wants', 'to', 'join', 'my', 'court', 'at', 'Camelot', 'n', 'But', 'then', 'of', 'course', 'a', 'African', 'swallows', 'are', 'non', 'migratory', 'n', 'Oh', 'yeah', 'n', 'So', 'they', 'couldn', 't', 'bring', 'a', 'coconut', 'back', 'anyway', 'clop', 'clop', 'clop', 'n', 'Wait', 'a', 'minute', 'Supposing', 'two', 'swallows', 'carried', 'it', 'together', 'n', 'No', 'they', 'd', 'have', 'to', 'have', 'it', 'on', 'a', 'line', 'n', 'Well', 'simple', 'They', 'd', 'just', 'use', 'a', 'strand', 'of', 'creeper', 'n', 'What', 'held', 'under', 'the', 'dorsal', 'guiding', 'feathers', 'n', 'Well', 'why', 'not', 'n']]\n"
     ]
    }
   ],
   "source": [
    "lines = [re.sub(pattern, '', l) for l in lines]\n",
    "print(lines)\n",
    "\n",
    "tokenized_lines = [regexp_tokenize(s, '\\w+') for s in lines]\n",
    "print(tokenized_lines)"
   ]
  }
 ],
 "metadata": {
  "colab": {
   "provenance": []
  },
  "kernelspec": {
   "display_name": "Python 3",
   "language": "python",
   "name": "python3"
  },
  "language_info": {
   "codemirror_mode": {
    "name": "ipython",
    "version": 3
   },
   "file_extension": ".py",
   "mimetype": "text/x-python",
   "name": "python",
   "nbconvert_exporter": "python",
   "pygments_lexer": "ipython3",
   "version": "3.8.10"
  }
 },
 "nbformat": 4,
 "nbformat_minor": 1
}

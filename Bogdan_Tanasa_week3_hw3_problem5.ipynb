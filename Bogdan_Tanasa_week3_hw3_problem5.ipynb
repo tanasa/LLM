{
 "cells": [
  {
   "cell_type": "code",
   "execution_count": null,
   "id": "8929e60b-4e7d-4869-830b-d39276a76346",
   "metadata": {},
   "outputs": [],
   "source": [
    "# Homework # 3\n",
    "# Problem # 5"
   ]
  },
  {
   "cell_type": "code",
   "execution_count": null,
   "id": "870db675-b1dd-4d24-9f33-4cb6dbfa5d69",
   "metadata": {},
   "outputs": [],
   "source": [
    "# The TensorFlow ‘argmax’ function returns the index of the maximum number. "
   ]
  },
  {
   "cell_type": "code",
   "execution_count": 1,
   "id": "d68638a7-41ff-4503-984f-4340e7c6a013",
   "metadata": {},
   "outputs": [
    {
     "name": "stderr",
     "output_type": "stream",
     "text": [
      "2024-10-25 20:43:31.377824: I tensorflow/core/util/port.cc:153] oneDNN custom operations are on. You may see slightly different numerical results due to floating-point round-off errors from different computation orders. To turn them off, set the environment variable `TF_ENABLE_ONEDNN_OPTS=0`.\n",
      "2024-10-25 20:43:31.387321: E external/local_xla/xla/stream_executor/cuda/cuda_fft.cc:485] Unable to register cuFFT factory: Attempting to register factory for plugin cuFFT when one has already been registered\n",
      "2024-10-25 20:43:31.398142: E external/local_xla/xla/stream_executor/cuda/cuda_dnn.cc:8454] Unable to register cuDNN factory: Attempting to register factory for plugin cuDNN when one has already been registered\n",
      "2024-10-25 20:43:31.401259: E external/local_xla/xla/stream_executor/cuda/cuda_blas.cc:1452] Unable to register cuBLAS factory: Attempting to register factory for plugin cuBLAS when one has already been registered\n",
      "2024-10-25 20:43:31.408372: I tensorflow/core/platform/cpu_feature_guard.cc:210] This TensorFlow binary is optimized to use available CPU instructions in performance-critical operations.\n",
      "To enable the following instructions: AVX2 AVX512F AVX512_VNNI FMA, in other operations, rebuild TensorFlow with the appropriate compiler flags.\n",
      "2024-10-25 20:43:31.994446: W tensorflow/compiler/tf2tensorrt/utils/py_utils.cc:38] TF-TRT Warning: Could not find TensorRT\n"
     ]
    },
    {
     "name": "stdout",
     "output_type": "stream",
     "text": [
      "a1: [1 1 1]\n",
      "a2: [0 2 2]\n"
     ]
    }
   ],
   "source": [
    "import tensorflow as tf\n",
    "\n",
    "a = tf.constant([[5, 2, 3],\n",
    "                 [26, 56, 92],\n",
    "                 [3, 0, 26]])\n",
    "\n",
    "a1 = tf.argmax(a, axis = 0)  # max indices along columns\n",
    "a2 = tf.argmax(a, axis = 1)  # max indices along rows\n",
    "\n",
    "print(\"the argmax values are :\")\n",
    "print(\"a1:\", a1.numpy())\n",
    "print(\"a2:\", a2.numpy())"
   ]
  },
  {
   "cell_type": "code",
   "execution_count": null,
   "id": "2c26adb6-e77b-4be3-9be4-12f865da23fc",
   "metadata": {},
   "outputs": [],
   "source": []
  }
 ],
 "metadata": {
  "kernelspec": {
   "display_name": "Python 3 (ipykernel)",
   "language": "python",
   "name": "python3"
  },
  "language_info": {
   "codemirror_mode": {
    "name": "ipython",
    "version": 3
   },
   "file_extension": ".py",
   "mimetype": "text/x-python",
   "name": "python",
   "nbconvert_exporter": "python",
   "pygments_lexer": "ipython3",
   "version": "3.9.20"
  }
 },
 "nbformat": 4,
 "nbformat_minor": 5
}

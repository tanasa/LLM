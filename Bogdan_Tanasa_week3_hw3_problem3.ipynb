{
 "cells": [
  {
   "cell_type": "code",
   "execution_count": 1,
   "id": "858779a6-c21d-4896-a975-e830d46df7e1",
   "metadata": {},
   "outputs": [],
   "source": [
    "# Homework # 3\n",
    "# Problem # 3"
   ]
  },
  {
   "cell_type": "code",
   "execution_count": 3,
   "id": "d1e0f2e3-42a8-44b9-98ce-460ede4552be",
   "metadata": {},
   "outputs": [
    {
     "name": "stdout",
     "output_type": "stream",
     "text": [
      "2.17.0\n"
     ]
    }
   ],
   "source": [
    "import numpy as np\n",
    "import os\n",
    "os.environ['TF_CPP_MIN_LOG_LEVEL'] = '2' \n",
    "import tensorflow as tf\n",
    "print(tf.__version__)"
   ]
  },
  {
   "cell_type": "code",
   "execution_count": null,
   "id": "57531e26-6b60-40f1-8161-d3d872dbdfb6",
   "metadata": {},
   "outputs": [],
   "source": [
    "# One way to solve the problem is by using tensorflow library :"
   ]
  },
  {
   "cell_type": "code",
   "execution_count": 5,
   "id": "b0d10527-9c9b-4b44-9e58-d4e366678e9a",
   "metadata": {},
   "outputs": [
    {
     "name": "stdout",
     "output_type": "stream",
     "text": [
      "Softmax vector of V is 1: [0.6375659  0.21222728 0.08628516 0.06392162]\n",
      "Softmax of V2: [0.21910708 0.1793897  0.44122744 0.04002726 0.1202485 ]\n"
     ]
    }
   ],
   "source": [
    "V1 = tf.constant([2.3, 1.2, 0.3, 0.0])\n",
    "V2 = tf.constant([1.9, 1.7, 2.6, 0.2, 1.3])\n",
    "\n",
    "V1_softmax = tf.nn.softmax(V1)\n",
    "V2_softmax = tf.nn.softmax(V2)\n",
    "\n",
    "print(\"Softmax vector of V is 1:\", V1_softmax.numpy())\n",
    "print(\"Softmax of V2:\", V2_softmax.numpy())"
   ]
  },
  {
   "cell_type": "code",
   "execution_count": null,
   "id": "aa21a610-92a4-4823-819f-1059db53ebe2",
   "metadata": {},
   "outputs": [],
   "source": [
    "# Another way to solve it is by defining the softmax function :"
   ]
  },
  {
   "cell_type": "code",
   "execution_count": 11,
   "id": "990bce2d-a83f-49be-9276-1200c0daefb9",
   "metadata": {},
   "outputs": [
    {
     "name": "stdout",
     "output_type": "stream",
     "text": [
      "Softmax for V1:\n",
      "[0.63756594 0.21222727 0.08628517 0.06392162]\n",
      "Softmax for V2:\n",
      "[0.21910707 0.1793897  0.44122746 0.04002725 0.12024851]\n"
     ]
    }
   ],
   "source": [
    "import numpy as np\n",
    "\n",
    "def compute_softmax(x):\n",
    "    \n",
    "    exp_x = np.exp(x) \n",
    "    sum_exp_x = np.sum(exp_x)\n",
    "    softmax_values = exp_x / sum_exp_x\n",
    "    \n",
    "    return softmax_values\n",
    "\n",
    "# Define the input vectors\n",
    "V1 = np.array([2.3, 1.2, 0.3, 0.0])\n",
    "V2 = np.array([1.9, 1.7, 2.6, 0.2, 1.3])\n",
    "\n",
    "# Compute the softmax for both vectors\n",
    "print(\"Softmax for V1:\")\n",
    "softmax_V1 = compute_softmax(V1)\n",
    "print(softmax_V1)\n",
    "\n",
    "print(\"Softmax for V2:\")\n",
    "softmax_V2 = compute_softmax(V2)\n",
    "print(softmax_V2)"
   ]
  },
  {
   "cell_type": "code",
   "execution_count": null,
   "id": "912896bc-c326-4791-9f13-daa538ae0c76",
   "metadata": {},
   "outputs": [],
   "source": []
  },
  {
   "cell_type": "code",
   "execution_count": null,
   "id": "8bdf6aa1-98b6-4867-b83a-f538c8a4a875",
   "metadata": {},
   "outputs": [],
   "source": []
  }
 ],
 "metadata": {
  "kernelspec": {
   "display_name": "Python 3 (ipykernel)",
   "language": "python",
   "name": "python3"
  },
  "language_info": {
   "codemirror_mode": {
    "name": "ipython",
    "version": 3
   },
   "file_extension": ".py",
   "mimetype": "text/x-python",
   "name": "python",
   "nbconvert_exporter": "python",
   "pygments_lexer": "ipython3",
   "version": "3.9.20"
  }
 },
 "nbformat": 4,
 "nbformat_minor": 5
}

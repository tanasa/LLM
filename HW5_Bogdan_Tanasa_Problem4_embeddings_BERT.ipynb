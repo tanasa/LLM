{
 "cells": [
  {
   "cell_type": "code",
   "execution_count": null,
   "id": "9313001b-f2db-4b20-b901-85a08f5bbec4",
   "metadata": {},
   "outputs": [],
   "source": [
    "# Problem 4\n",
    "\n",
    "# Analyze the embeddings of the word ‘bank’ in the following 2 sentences.\n",
    "# Sentence 1: I went to a bank to deposit money.\n",
    "# Sentence 2: I sat near a bank of a river.\n",
    "# Download the embeddings of all the words in the above 2 sentences for the following 2 models.\n",
    "# • Glove embeddings\n",
    "# • BERT embeddings from Hugging face Transformer web portal\n",
    "# Compute the Euclidian distance between the Glove and BERT embeddings for the word ‘bank.\n",
    "# Expected answer:\n",
    "# • Glove embedding: Euclidian distance between the embeddings for the word ‘bank’ used in 2 sentences = 0\n",
    "# • BERT embeddings: Euclidian distance between the embeddings for the word ‘bank’ used in 2 sentences ≠ 0"
   ]
  },
  {
   "cell_type": "code",
   "execution_count": null,
   "id": "83c91beb-cabb-45d6-8662-03de18914750",
   "metadata": {},
   "outputs": [],
   "source": []
  },
  {
   "cell_type": "code",
   "execution_count": null,
   "id": "0b9d3b34-e01b-4a3c-a27c-3c7a3d969314",
   "metadata": {},
   "outputs": [],
   "source": [
    "# GloVe Embeddings:\n",
    "# Static Embeddings: GloVe generates a single, fixed vector for each word, regardless of its context.\n",
    "# Result: The Euclidean distance between the embeddings of \"bank\" in both sentences would be 0 because GloVe uses the same embedding for each instance of \"bank\" without taking context into account. This static nature of GloVe embeddings means \n",
    "# it cannot differentiate between \"bank\" as a financial institution and \"bank\" as a riverbank.\n",
    "\n",
    "# BERT Embeddings:\n",
    "# Contextualized Embeddings: BERT creates unique embeddings for words based on the context in which they are used.\n",
    "# Result: The Euclidean distance between the embeddings of \"bank\" in the two sentences would be non-zero. \n",
    "# BERT would interpret \"bank\" differently in each sentence, producing distinct embeddings for each context \n",
    "# (financial institution vs. riverbank).\n",
    "# Expected Outcome\n",
    "# GloVe: Euclidean distance between \"bank\" embeddings in the two sentences = 0\n",
    "# BERT: Euclidean distance between \"bank\" embeddings in the two sentences ≠ 0"
   ]
  },
  {
   "cell_type": "code",
   "execution_count": 2,
   "id": "1437ad1a-73d5-4b8d-b98b-7515bded9df6",
   "metadata": {},
   "outputs": [
    {
     "name": "stderr",
     "output_type": "stream",
     "text": [
      "2024-11-08 21:48:37.168365: I tensorflow/core/util/port.cc:153] oneDNN custom operations are on. You may see slightly different numerical results due to floating-point round-off errors from different computation orders. To turn them off, set the environment variable `TF_ENABLE_ONEDNN_OPTS=0`.\n",
      "2024-11-08 21:48:37.278144: E external/local_xla/xla/stream_executor/cuda/cuda_fft.cc:477] Unable to register cuFFT factory: Attempting to register factory for plugin cuFFT when one has already been registered\n",
      "WARNING: All log messages before absl::InitializeLog() is called are written to STDERR\n",
      "E0000 00:00:1731131317.317173   10600 cuda_dnn.cc:8310] Unable to register cuDNN factory: Attempting to register factory for plugin cuDNN when one has already been registered\n",
      "E0000 00:00:1731131317.328079   10600 cuda_blas.cc:1418] Unable to register cuBLAS factory: Attempting to register factory for plugin cuBLAS when one has already been registered\n",
      "2024-11-08 21:48:37.424413: I tensorflow/core/platform/cpu_feature_guard.cc:210] This TensorFlow binary is optimized to use available CPU instructions in performance-critical operations.\n",
      "To enable the following instructions: AVX2 AVX512F AVX512_VNNI FMA, in other operations, rebuild TensorFlow with the appropriate compiler flags.\n"
     ]
    }
   ],
   "source": [
    "import numpy as np\n",
    "from scipy.spatial.distance import euclidean\n",
    "from transformers import BertTokenizer, BertModel\n",
    "import torch"
   ]
  },
  {
   "cell_type": "code",
   "execution_count": 3,
   "id": "7333d01f-966c-4d64-998c-ae0981eb4461",
   "metadata": {},
   "outputs": [],
   "source": [
    "sentence1 = \"I went to a bank to deposit money.\"\n",
    "sentence2 = \"I sat near a bank of a river.\"\n",
    "\n",
    "model = BertModel.from_pretrained('bert-base-uncased')\n",
    "tokenizer = BertTokenizer.from_pretrained('bert-base-uncased')\n",
    "\n",
    "# Tokenize and get embeddings for each sentence\n",
    "\n",
    "def get_bert_embedding(sentence, word):\n",
    "    \n",
    "    inputs = tokenizer(sentence, return_tensors=\"pt\")\n",
    "    outputs = model(inputs['input_ids'])\n",
    "    word_id = tokenizer.convert_tokens_to_ids(word)\n",
    "    word_index = inputs['input_ids'][0].tolist().index(word_id)\n",
    "    word_embedding = outputs.last_hidden_state[0][word_index].detach().numpy()\n",
    "    \n",
    "    return word_embedding"
   ]
  },
  {
   "cell_type": "code",
   "execution_count": 9,
   "id": "c2fa2169-1ff8-447e-a163-965d4fb82f8b",
   "metadata": {},
   "outputs": [
    {
     "name": "stdout",
     "output_type": "stream",
     "text": [
      "Euclidean distance between BERT embeddings: \n",
      "BERT Embeddings Euclidean Distance (Contextualized): 14.706682205200195\n"
     ]
    }
   ],
   "source": [
    "# BERT embeddings \n",
    "bert_embedding_bank_sentence1 = get_bert_embedding(sentence1, \"bank\")\n",
    "bert_embedding_bank_sentence2 = get_bert_embedding(sentence2, \"bank\")\n",
    "\n",
    "# Euclidean distance between BERT embeddings\n",
    "print(\"Euclidean distance between BERT embeddings: \")\n",
    "bert_distance = euclidean(bert_embedding_bank_sentence1, bert_embedding_bank_sentence2)\n",
    "\n",
    "print(\"BERT Embeddings Euclidean Distance (Contextualized):\", bert_distance)"
   ]
  },
  {
   "cell_type": "code",
   "execution_count": null,
   "id": "be25889a-621a-46b3-a271-2787f02d2cfe",
   "metadata": {},
   "outputs": [],
   "source": []
  },
  {
   "cell_type": "code",
   "execution_count": 12,
   "id": "0dafed95-fbf9-4743-8716-88d86a74f06c",
   "metadata": {},
   "outputs": [],
   "source": [
    "# The Glove embeddings analysis is described in the file : HW5_Bogdan_Tanasa_Problem4_embeddings_glove.ipynb"
   ]
  },
  {
   "cell_type": "code",
   "execution_count": null,
   "id": "aa20433d-8db0-4a56-b248-7f5800a6d3f7",
   "metadata": {},
   "outputs": [],
   "source": []
  }
 ],
 "metadata": {
  "kernelspec": {
   "display_name": "Python 3 (ipykernel)",
   "language": "python",
   "name": "python3"
  },
  "language_info": {
   "codemirror_mode": {
    "name": "ipython",
    "version": 3
   },
   "file_extension": ".py",
   "mimetype": "text/x-python",
   "name": "python",
   "nbconvert_exporter": "python",
   "pygments_lexer": "ipython3",
   "version": "3.9.20"
  }
 },
 "nbformat": 4,
 "nbformat_minor": 5
}

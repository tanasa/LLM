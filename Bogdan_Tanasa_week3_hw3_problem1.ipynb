{
 "cells": [
  {
   "cell_type": "code",
   "execution_count": 26,
   "id": "1abded8a-15d4-4b25-a6e7-c062fddf0951",
   "metadata": {},
   "outputs": [
    {
     "name": "stdout",
     "output_type": "stream",
     "text": [
      "2.17.0\n"
     ]
    }
   ],
   "source": [
    "import os\n",
    "import numpy\n",
    "os.environ['TF_CPP_MIN_LOG_LEVEL'] = '2' \n",
    "import tensorflow as tf\n",
    "print(tf.__version__)"
   ]
  },
  {
   "cell_type": "code",
   "execution_count": 40,
   "id": "83e2b491-3995-46da-869c-9cb4aa671e01",
   "metadata": {},
   "outputs": [],
   "source": [
    "# Homework # 3\n",
    "# Problem # 1"
   ]
  },
  {
   "cell_type": "code",
   "execution_count": 42,
   "id": "ecbe022e-6995-47fa-b000-25a696d8686b",
   "metadata": {},
   "outputs": [
    {
     "name": "stdout",
     "output_type": "stream",
     "text": [
      "sigmoid : a1: 0.588 a2: 0.684\n",
      "linear : a1: 0.355 a2: 0.688\n",
      "tanh : a1: 0.341 a2: 0.593\n",
      "relu : a1: 0.355 a2: 0.688\n"
     ]
    }
   ],
   "source": [
    "# We use as an argument a string that encodes the name of the function : \"sigmoid\", \"linear\", \"tanh\", \"relu\"\n",
    "\n",
    "import tensorflow as tf\n",
    "\n",
    "def ann(input_data, activation='linear'):    # the default value of the parameter \"activation\" is \"sigmoid\"\n",
    "\n",
    "    try:\n",
    "        activation_function = getattr(tf.nn, activation) if activation != 'linear' else lambda x: x\n",
    "    except AttributeError:\n",
    "        raise ValueError(\"Invalid activation function. Choose from 'sigmoid', 'linear', 'tanh', or 'relu'.\")\n",
    "    \n",
    "    # tf.nn: This is TensorFlow's module that contains various neural network functions\n",
    "    # if activation is set to 'sigmoid', then getattr(tf.nn, 'sigmoid') is equivalent to calling tf.nn.sigmoid.\n",
    "    \n",
    "    # Define Layer 1\n",
    "    W1 = tf.constant([[0.15], [0.05]], dtype=tf.float32)\n",
    "    b1 = tf.constant([[0.33]], dtype=tf.float32)\n",
    "    \n",
    "    # Compute output for Layer 1\n",
    "    outputH1 = tf.matmul(input_data, W1) + b1\n",
    "    outputH1_Activation = activation_function(outputH1)\n",
    "    a1 = outputH1_Activation.numpy()[0, 0]\n",
    "    \n",
    "    # Define Layer 2\n",
    "    W2 = tf.constant([[0.36]], dtype=tf.float32)\n",
    "    b2 = tf.constant([[0.56]], dtype=tf.float32)\n",
    "    \n",
    "    # Compute output for Layer 2\n",
    "    outputH2 = tf.matmul(outputH1_Activation, W2) + b2\n",
    "    outputH2_Activation = activation_function(outputH2)\n",
    "    a2 = outputH2_Activation.numpy()[0,0]\n",
    "    \n",
    "    return (a1, a2)\n",
    "\n",
    "# Input data :\n",
    "\n",
    "input_data = tf.constant([[0.1, 0.2]], dtype=tf.float32)\n",
    "\n",
    "# The output of the network for distinct activation functions :\n",
    "\n",
    "a1, a2 = ann(input_data, activation='sigmoid')\n",
    "print(f\"sigmoid : a1: {a1:.3f} a2: {a2:.3f}\")\n",
    "\n",
    "a1, a2 = ann(input_data, activation='linear')\n",
    "print(f\"linear : a1: {a1:.3f} a2: {a2:.3f}\")\n",
    "\n",
    "a1, a2 = ann(input_data, activation='tanh')\n",
    "print(f\"tanh : a1: {a1:.3f} a2: {a2:.3f}\")\n",
    "\n",
    "a1, a2 = ann(input_data, activation='relu')\n",
    "print(f\"relu : a1: {a1:.3f} a2: {a2:.3f}\")"
   ]
  },
  {
   "cell_type": "code",
   "execution_count": null,
   "id": "091d7780-5c6d-4510-a1f6-632e1d4c269f",
   "metadata": {},
   "outputs": [],
   "source": []
  },
  {
   "cell_type": "code",
   "execution_count": null,
   "id": "32d67d82-b824-4d75-842f-2e3e66e5c2f6",
   "metadata": {},
   "outputs": [],
   "source": []
  },
  {
   "cell_type": "code",
   "execution_count": null,
   "id": "c4f3ff4e-3198-4a50-af99-359c4942e50e",
   "metadata": {},
   "outputs": [],
   "source": []
  },
  {
   "cell_type": "code",
   "execution_count": null,
   "id": "85da3763-07b6-4ab3-a48c-78935e9fd70e",
   "metadata": {},
   "outputs": [],
   "source": []
  },
  {
   "cell_type": "code",
   "execution_count": null,
   "id": "166599ee-519a-462a-91e9-a01d7022abfc",
   "metadata": {},
   "outputs": [],
   "source": []
  }
 ],
 "metadata": {
  "kernelspec": {
   "display_name": "Python 3 (ipykernel)",
   "language": "python",
   "name": "python3"
  },
  "language_info": {
   "codemirror_mode": {
    "name": "ipython",
    "version": 3
   },
   "file_extension": ".py",
   "mimetype": "text/x-python",
   "name": "python",
   "nbconvert_exporter": "python",
   "pygments_lexer": "ipython3",
   "version": "3.9.20"
  }
 },
 "nbformat": 4,
 "nbformat_minor": 5
}

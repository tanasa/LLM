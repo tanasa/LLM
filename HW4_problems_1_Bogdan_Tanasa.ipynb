{
 "cells": [
  {
   "cell_type": "code",
   "execution_count": 10,
   "id": "07825870-1927-4444-8244-cc973169cbc9",
   "metadata": {},
   "outputs": [],
   "source": [
    "# Using the ‘GoogleNews’ Word2Vec vector file, perform the vector math on the following vectors described below."
   ]
  },
  {
   "cell_type": "code",
   "execution_count": null,
   "id": "29687097-245b-483c-8e64-1eb4c289f220",
   "metadata": {},
   "outputs": [],
   "source": [
    "from gensim.models import Word2Vec, KeyedVectors \n",
    "import os\n",
    "\n",
    "# files = os.listdir('.')\n",
    "# print(files)\n",
    "# the file GoogleNews-vectors-negative300.bin is in the local folder"
   ]
  },
  {
   "cell_type": "code",
   "execution_count": 8,
   "id": "324d2c4a-6a92-414e-bec8-2f9307d61f23",
   "metadata": {},
   "outputs": [
    {
     "name": "stdout",
     "output_type": "stream",
     "text": [
      "KeyedVectors<vector_size=300, 200000 keys>\n"
     ]
    }
   ],
   "source": [
    "path = \"GoogleNews-vectors-negative300.bin\"\n",
    "model = KeyedVectors.load_word2vec_format(path, binary=True, limit=200000)\n",
    "print(model)"
   ]
  },
  {
   "cell_type": "code",
   "execution_count": 14,
   "id": "d8672267-85af-4182-8510-41e940cbb21c",
   "metadata": {},
   "outputs": [
    {
     "name": "stdout",
     "output_type": "stream",
     "text": [
      "Vec1:\n",
      "  politicians: 0.4089285433292389\n",
      "  Politics: 0.40105733275413513\n",
      "  partisan_politics: 0.4005149006843567\n",
      "  politicans: 0.38309744000434875\n",
      "  politician: 0.3765084445476532\n",
      "  political: 0.3717055916786194\n",
      "  Margaret_Thatcher: 0.35837188363075256\n",
      "  Sue_Ryder: 0.3529563248157501\n",
      "  Politician: 0.3526269793510437\n",
      "  partisanship: 0.34493669867515564\n",
      "\n",
      "\n",
      "Vec2:\n",
      "  Dolphins: 0.6754170656204224\n",
      "  Miami_Dolphins: 0.6229879856109619\n",
      "  Seminoles: 0.6067841053009033\n",
      "  Gators: 0.5919932723045349\n",
      "  Hokies: 0.5768980979919434\n",
      "  Broncos: 0.5766372680664062\n",
      "  Hurricanes: 0.5682353973388672\n",
      "  Randy_Shannon: 0.5615487098693848\n",
      "  Buckeyes: 0.561246395111084\n",
      "  Cleveland_Browns: 0.5555166602134705\n",
      "\n",
      "\n",
      "Vec3:\n",
      "  Denver: 0.7568899393081665\n",
      "  Grand_Junction: 0.6607719659805298\n",
      "  Fort_Collins: 0.6566110849380493\n",
      "  Colorado_Springs: 0.6384977698326111\n",
      "  Boulder: 0.6343095302581787\n",
      "  Gunnison: 0.6158502697944641\n",
      "  Pueblo: 0.6093513369560242\n",
      "  Longmont: 0.6019268035888672\n",
      "  Glenwood_Springs: 0.6016177535057068\n",
      "  Spokane: 0.5983922481536865\n",
      "\n",
      "\n",
      "Vec4:\n",
      "  Giants: 0.6279327869415283\n",
      "  Niners: 0.6029741168022156\n",
      "  ##ers: 0.5963984727859497\n",
      "  San_Francisco_##ers: 0.5728322267532349\n",
      "  Oakland_Raiders: 0.5594753623008728\n",
      "  Broncos: 0.5117214918136597\n",
      "  San_Francisco_Giants: 0.5090031623840332\n",
      "  Raiders: 0.4918917417526245\n",
      "  San_Fran: 0.4895261526107788\n",
      "  Seahawks: 0.4850952923297882\n",
      "\n",
      "\n"
     ]
    }
   ],
   "source": [
    "# Since the results will be in tuple format, we prefer to store these tuples in a dictionary. \n",
    "# It allows for easier iteration over the dictionary elements and facilitates printing the tuple elements in a two-column format.\n",
    "\n",
    "results = {}\n",
    "\n",
    "# 1. Vec1 = 'Marie_Curie' - 'physics' + 'politics'\n",
    "vector1 = model.most_similar(positive=['Marie_Curie', 'politics'], negative=['physics'], topn=10)\n",
    "results['Vec1'] = vector1\n",
    "\n",
    "# 2. Vec2 = 'Cowboys' - 'Dallas' + 'Miami'\n",
    "vector2 = model.most_similar(positive=['Cowboys', 'Miami'], negative=['Dallas'], topn=10)\n",
    "results['Vec2'] = vector2\n",
    "\n",
    "# 3. Vec3 = 'Sacramento' - 'California' + 'Colorado'\n",
    "vector3 = model.most_similar(positive=['Sacramento', 'Colorado'], negative=['California'], topn=10)\n",
    "results['Vec3'] = vector3\n",
    "\n",
    "# 4. Vec4 = 'Cowboys' - 'Dallas' + 'San_Francisco'\n",
    "vector4 = model.most_similar(positive=['Cowboys', 'San_Francisco'], negative=['Dallas'], topn=10)\n",
    "results['Vec4'] = vector4\n",
    "\n",
    "# Display the results\n",
    "for vector_name, similar_words in results.items():\n",
    "    print(f\"{vector_name}:\")\n",
    "    for word, similarity in similar_words:\n",
    "        print(f\"  {word}: {similarity}\")\n",
    "    print(\"\\n\")"
   ]
  },
  {
   "cell_type": "code",
   "execution_count": null,
   "id": "34794ced-e2dd-4e55-aa42-ad9869dd1da4",
   "metadata": {},
   "outputs": [],
   "source": []
  }
 ],
 "metadata": {
  "kernelspec": {
   "display_name": "Python 3 (ipykernel)",
   "language": "python",
   "name": "python3"
  },
  "language_info": {
   "codemirror_mode": {
    "name": "ipython",
    "version": 3
   },
   "file_extension": ".py",
   "mimetype": "text/x-python",
   "name": "python",
   "nbconvert_exporter": "python",
   "pygments_lexer": "ipython3",
   "version": "3.9.20"
  }
 },
 "nbformat": 4,
 "nbformat_minor": 5
}

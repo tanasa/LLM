{
 "cells": [
  {
   "cell_type": "code",
   "execution_count": null,
   "id": "c2a8df6a-2d82-45b1-92e3-94e9f6874639",
   "metadata": {},
   "outputs": [],
   "source": [
    "# Find the values of ‘x’ and ‘y’ where the cost (z-value) is minimum using the Gradient Descent algorithm. "
   ]
  },
  {
   "cell_type": "code",
   "execution_count": 8,
   "id": "6cabcd94-1e49-4a4e-8313-41b4fbda8d1a",
   "metadata": {},
   "outputs": [
    {
     "name": "stdout",
     "output_type": "stream",
     "text": [
      "Optimal values: x = 1.9669973524301059, y = 2.9500729177788814\n",
      "Total steps towards convergence: 1971\n",
      "The value of z is : 4.999641798340583\n"
     ]
    }
   ],
   "source": [
    "import numpy as np\n",
    "\n",
    "def costFunction(x, y):\n",
    "    return -np.sqrt(25 - (x - 2)**2 - (y - 3)**2)\n",
    "\n",
    "# Gradients (with corrected typo)\n",
    "def gradients(x, y):\n",
    "    denominator = np.sqrt(25 - (x - 2)**2 - (y - 3)**2)\n",
    "    # Avoid division by zero\n",
    "    if denominator == 0:\n",
    "        return 0, 0\n",
    "    dzdx = (x - 2) / denominator\n",
    "    dzdy = (y - 3) / denominator\n",
    "    return dzdx, dzdy\n",
    "\n",
    "# Gradient Descent function\n",
    "def gradient_descent(learning_rate=0.01, epsilon=0.0001, max_steps=10000):\n",
    "    \n",
    "    # Starting values (a guess)\n",
    "    x, y = 0.05, 0.05\n",
    "    steps = 0\n",
    "    \n",
    "    for step in range(max_steps):\n",
    "        \n",
    "        steps += 1\n",
    "\n",
    "        # Calculate gradients\n",
    "        dzdx, dzdy = gradients(x, y)\n",
    "        \n",
    "        # Update x and y\n",
    "        x_new = x - learning_rate * dzdx\n",
    "        y_new = y - learning_rate * dzdy\n",
    "        \n",
    "        # Check for convergence\n",
    "        if abs(x_new - x) < epsilon and abs(y_new - y) < epsilon:\n",
    "            break\n",
    "            \n",
    "        # Update the current values\n",
    "        x, y = x_new, y_new\n",
    "        \n",
    "    return x, y, steps\n",
    "\n",
    "# Gradient descent algorithm\n",
    "optimum_x, optimum_y, total_steps = gradient_descent()\n",
    "\n",
    "# Calculate z using the optimal x, y\n",
    "z = np.sqrt(25 - (optimum_x - 2)**2 - (optimum_y - 3)**2)\n",
    "\n",
    "print(f\"Optimal values: x = {optimum_x}, y = {optimum_y}\")\n",
    "print(f\"Total steps towards convergence: {total_steps}\")\n",
    "print(f\"The value of z is : {z}\")"
   ]
  },
  {
   "cell_type": "code",
   "execution_count": null,
   "id": "75d9dc11-a6e9-4090-a496-fa4a048559ee",
   "metadata": {},
   "outputs": [],
   "source": []
  }
 ],
 "metadata": {
  "kernelspec": {
   "display_name": "Python 3 (ipykernel)",
   "language": "python",
   "name": "python3"
  },
  "language_info": {
   "codemirror_mode": {
    "name": "ipython",
    "version": 3
   },
   "file_extension": ".py",
   "mimetype": "text/x-python",
   "name": "python",
   "nbconvert_exporter": "python",
   "pygments_lexer": "ipython3",
   "version": "3.9.20"
  }
 },
 "nbformat": 4,
 "nbformat_minor": 5
}

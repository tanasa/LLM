{
 "cells": [
  {
   "cell_type": "code",
   "execution_count": null,
   "id": "4e86d03f-777e-4edb-acce-2eb2b2507338",
   "metadata": {},
   "outputs": [],
   "source": [
    "# Homework # 3\n",
    "# Problem # 4"
   ]
  },
  {
   "cell_type": "code",
   "execution_count": 2,
   "id": "58a823f1-100f-4986-b2cf-3bacc881708b",
   "metadata": {},
   "outputs": [],
   "source": [
    "import math\n",
    "import tensorflow as tf"
   ]
  },
  {
   "cell_type": "code",
   "execution_count": null,
   "id": "c6d30877-2e14-4386-aa68-0bad1556d1ac",
   "metadata": {},
   "outputs": [],
   "source": [
    "# the target values are 0"
   ]
  },
  {
   "cell_type": "code",
   "execution_count": 6,
   "id": "f437ccbb-db50-4c43-82fe-889021f38820",
   "metadata": {},
   "outputs": [
    {
     "name": "stdout",
     "output_type": "stream",
     "text": [
      "Target: 0.0, Computed Value: 0.95, Cost Function: 2.9957\n",
      "Target: 0.0, Computed Value: 0.80, Cost Function: 1.6094\n",
      "Target: 0.0, Computed Value: 0.60, Cost Function: 0.9163\n",
      "Target: 0.0, Computed Value: 0.40, Cost Function: 0.5108\n",
      "Target: 0.0, Computed Value: 0.10, Cost Function: 0.1054\n"
     ]
    }
   ],
   "source": [
    "target_values = tf.constant([0, 0, 0, 0, 0], dtype=tf.float32)\n",
    "computed_values = tf.constant([0.95, 0.8, 0.6, 0.4, 0.1], dtype=tf.float32)\n",
    "\n",
    "def cost_function(target, computed):\n",
    "    cost = - (target * tf.math.log(computed) + \n",
    "             (1 - target) * tf.math.log(1 - computed))\n",
    "    return cost   \n",
    "\n",
    "# Output the values of the cost function :\n",
    "cost_values = cost_function(target_values, computed_values).numpy()  # Convert to NumPy array for better readability\n",
    "for i in range(len(cost_values)):\n",
    "    print(f\"Target: {target_values[i]}, Computed Value: {computed_values[i]:.2f}, Cost Function: {cost_values[i]:.4f}\")\n"
   ]
  },
  {
   "cell_type": "code",
   "execution_count": null,
   "id": "d80ff4e9-dcc1-4e7a-a4cc-0b0bfd08fb3b",
   "metadata": {},
   "outputs": [],
   "source": [
    "# the target values are 1"
   ]
  },
  {
   "cell_type": "code",
   "execution_count": 7,
   "id": "d2115307-a237-4c7e-9e5e-1596cab3c13b",
   "metadata": {},
   "outputs": [
    {
     "name": "stdout",
     "output_type": "stream",
     "text": [
      "Target: 1.0, Computed Value: 0.95, Cost Function: 0.0513\n",
      "Target: 1.0, Computed Value: 0.80, Cost Function: 0.2231\n",
      "Target: 1.0, Computed Value: 0.60, Cost Function: 0.5108\n",
      "Target: 1.0, Computed Value: 0.40, Cost Function: 0.9163\n",
      "Target: 1.0, Computed Value: 0.10, Cost Function: 2.3026\n"
     ]
    }
   ],
   "source": [
    "target_values = tf.constant([1, 1, 1, 1, 1], dtype=tf.float32)\n",
    "computed_values = tf.constant([0.95, 0.8, 0.6, 0.4, 0.1], dtype=tf.float32)\n",
    "\n",
    "def cost_function(target, computed):\n",
    "    cost = - (target * tf.math.log(computed) + \n",
    "             (1 - target) * tf.math.log(1 - computed))\n",
    "    return cost   \n",
    "\n",
    "# Output the values of the cost function :\n",
    "cost_values = cost_function(target_values, computed_values).numpy()  # Convert to NumPy array for better readability\n",
    "for i in range(len(cost_values)):\n",
    "    print(f\"Target: {target_values[i]}, Computed Value: {computed_values[i]:.2f}, Cost Function: {cost_values[i]:.4f}\")"
   ]
  },
  {
   "cell_type": "code",
   "execution_count": null,
   "id": "dd4a34d6-dad9-467e-bf54-7c6517ec5487",
   "metadata": {},
   "outputs": [],
   "source": []
  }
 ],
 "metadata": {
  "kernelspec": {
   "display_name": "Python 3 (ipykernel)",
   "language": "python",
   "name": "python3"
  },
  "language_info": {
   "codemirror_mode": {
    "name": "ipython",
    "version": 3
   },
   "file_extension": ".py",
   "mimetype": "text/x-python",
   "name": "python",
   "nbconvert_exporter": "python",
   "pygments_lexer": "ipython3",
   "version": "3.9.20"
  }
 },
 "nbformat": 4,
 "nbformat_minor": 5
}

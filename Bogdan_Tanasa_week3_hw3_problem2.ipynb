{
 "cells": [
  {
   "cell_type": "code",
   "execution_count": 6,
   "id": "9fd7b328-c832-4729-b43b-900b35f072ea",
   "metadata": {},
   "outputs": [],
   "source": [
    "# Homework # 3\n",
    "# Problem # 2"
   ]
  },
  {
   "cell_type": "code",
   "execution_count": 10,
   "id": "2abd016d-d4f6-4f82-b002-83e19ed77d2c",
   "metadata": {},
   "outputs": [
    {
     "name": "stdout",
     "output_type": "stream",
     "text": [
      "2.17.0\n"
     ]
    }
   ],
   "source": [
    "import numpy as np\n",
    "import os\n",
    "os.environ['TF_CPP_MIN_LOG_LEVEL'] = '2' \n",
    "import tensorflow as tf\n",
    "print(tf.__version__)"
   ]
  },
  {
   "cell_type": "code",
   "execution_count": 16,
   "id": "82eb410c-8159-4f17-9f76-3e9d221fc15e",
   "metadata": {},
   "outputs": [
    {
     "name": "stdout",
     "output_type": "stream",
     "text": [
      "Gradient values of the sigmoid function are: [0.01766271 0.23500371 0.01766271]\n",
      "Gradient values of the tanh function are: [0.00134095 0.78644773 0.00134095]\n",
      "Gradient values of the relu function are: [0. 1. 1.]\n"
     ]
    }
   ],
   "source": [
    "def sigmoid_gradient(x):\n",
    "    \"\"\"Computes the gradient of the sigmoid function.\"\"\"\n",
    "    sig_value = sigmoid(x)                   \n",
    "    return sig_value * (1 - sig_value)           \n",
    "\n",
    "def tanh_gradient(x):\n",
    "    \"\"\"Computes the gradient of the tanh function.\"\"\"\n",
    "    tanh_value = np.tanh(x)  \n",
    "    return 1 - tanh_value ** 2  \n",
    "\n",
    "def relu_gradient(x):\n",
    "    \"\"\"Computes the gradient of the ReLU function.\"\"\"\n",
    "\n",
    "    gradient = np.zeros(len(x))\n",
    "    for i in range(len(x)):\n",
    "        if x[i] > 0:\n",
    "            gradient[i] = 1 \n",
    "        else:\n",
    "            gradient[i] = 0\n",
    "    return gradient\n",
    "\n",
    "if __name__ == \"__main__\":\n",
    "\n",
    "    x = np.array([-4.0, 0.5, 4.0])\n",
    "    gradient_values_sigmoid = sigmoid_gradient(x)\n",
    "    print(\"Gradient values of the sigmoid function are:\", gradient_values_sigmoid)\n",
    "\n",
    "    gradient_values_tanh = tanh_gradient(x)\n",
    "    print(\"Gradient values of the tanh function are:\", gradient_values_tanh)\n",
    "\n",
    "    gradient_values_relu = relu_gradient(x)\n",
    "    print(\"Gradient values of the relu function are:\", gradient_values_relu)"
   ]
  },
  {
   "cell_type": "code",
   "execution_count": null,
   "id": "28fba7b5-980e-42c6-b9d4-8b6a6c32de88",
   "metadata": {},
   "outputs": [],
   "source": []
  },
  {
   "cell_type": "code",
   "execution_count": null,
   "id": "806200dc-4313-473b-aa3c-c971f8f25f6d",
   "metadata": {},
   "outputs": [],
   "source": []
  },
  {
   "cell_type": "code",
   "execution_count": null,
   "id": "2f99ca34-ff3e-4be4-87e2-909509eb7178",
   "metadata": {},
   "outputs": [],
   "source": []
  }
 ],
 "metadata": {
  "kernelspec": {
   "display_name": "Python 3 (ipykernel)",
   "language": "python",
   "name": "python3"
  },
  "language_info": {
   "codemirror_mode": {
    "name": "ipython",
    "version": 3
   },
   "file_extension": ".py",
   "mimetype": "text/x-python",
   "name": "python",
   "nbconvert_exporter": "python",
   "pygments_lexer": "ipython3",
   "version": "3.9.20"
  }
 },
 "nbformat": 4,
 "nbformat_minor": 5
}
